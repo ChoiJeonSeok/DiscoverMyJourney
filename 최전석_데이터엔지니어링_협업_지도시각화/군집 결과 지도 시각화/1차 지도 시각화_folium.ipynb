{
 "cells": [
  {
   "cell_type": "code",
   "execution_count": 1,
   "id": "7788f123",
   "metadata": {},
   "outputs": [
    {
     "name": "stderr",
     "output_type": "stream",
     "text": [
      "C:\\Users\\art\\anaconda3\\envs\\tensorflow\\lib\\site-packages\\numpy\\_distributor_init.py:30: UserWarning: loaded more than 1 DLL from .libs:\n",
      "C:\\Users\\art\\anaconda3\\envs\\tensorflow\\lib\\site-packages\\numpy\\.libs\\libopenblas.NOIJJG62EMASZI6NYURL6JBKM4EVBGM7.gfortran-win_amd64.dll\n",
      "C:\\Users\\art\\anaconda3\\envs\\tensorflow\\lib\\site-packages\\numpy\\.libs\\libopenblas64__v0.3.21-gcc_10_3_0.dll\n",
      "  warnings.warn(\"loaded more than 1 DLL from .libs:\"\n"
     ]
    }
   ],
   "source": [
    "import folium\n",
    "# html으로 시도. 1차 시도\n",
    "# 대한민국의 대략적인 중심 좌표를 사용\n",
    "map = folium.Map(location=[36.5, 127.5], zoom_start=7)\n",
    "\n",
    "map.save('south_korea_map.html')\n"
   ]
  },
  {
   "cell_type": "code",
   "execution_count": 2,
   "id": "b047e840",
   "metadata": {},
   "outputs": [],
   "source": [
    "import folium\n",
    "\n",
    "# 대한민국의 대략적인 중심 좌표를 사용\n",
    "map = folium.Map(location=[36.5, 127.5], zoom_start=7)\n",
    "\n",
    "# 서울과 부산에 마커 추가\n",
    "folium.Marker([37.5665, 126.9780], popup='서울').add_to(map)\n",
    "folium.Marker([35.1796, 129.0756], popup='부산').add_to(map)\n",
    "\n",
    "map.save('south_korea_map.html')\n"
   ]
  },
  {
   "cell_type": "code",
   "execution_count": 3,
   "id": "0a6321c6",
   "metadata": {},
   "outputs": [],
   "source": [
    "import folium\n",
    "\n",
    "# 대한민국의 대략적인 중심 좌표를 사용\n",
    "map = folium.Map(location=[36.5, 127.5], zoom_start=7)\n",
    "\n",
    "# 서울에 빨간색 마커 추가\n",
    "folium.Marker([37.5665, 126.9780], popup='서울', icon=folium.Icon(color='red')).add_to(map)\n",
    "\n",
    "# 부산에 파란색 마커 추가\n",
    "folium.Marker([35.1796, 129.0756], popup='부산', icon=folium.Icon(color='blue')).add_to(map)\n",
    "\n",
    "map.save('south_korea_map.html')\n"
   ]
  },
  {
   "cell_type": "code",
   "execution_count": null,
   "id": "677ba8fa",
   "metadata": {},
   "outputs": [],
   "source": [
    "# 해당 지역을 구분하는 것이 목적이기에 마크를 표시하는 방법은 마크 수가 많을 수록 시선이 분산된다.\n",
    "# 또한 같은 클러스터에 속한 지역들이 연결되어 보이지 않고 구별되어 보이게 된다.\n",
    "# 다른 방법을 찾아보기로 판단함."
   ]
  }
 ],
 "metadata": {
  "kernelspec": {
   "display_name": "TF",
   "language": "python",
   "name": "tensorflow"
  },
  "language_info": {
   "codemirror_mode": {
    "name": "ipython",
    "version": 3
   },
   "file_extension": ".py",
   "mimetype": "text/x-python",
   "name": "python",
   "nbconvert_exporter": "python",
   "pygments_lexer": "ipython3",
   "version": "3.8.16"
  }
 },
 "nbformat": 4,
 "nbformat_minor": 5
}
