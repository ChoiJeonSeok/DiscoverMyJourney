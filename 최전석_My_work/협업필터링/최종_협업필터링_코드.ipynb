{
 "cells": [
  {
   "cell_type": "markdown",
   "id": "575987da",
   "metadata": {},
   "source": [
    "## 데이터 로드"
   ]
  },
  {
   "cell_type": "code",
   "execution_count": 7,
   "id": "d62351df",
   "metadata": {
    "scrolled": true
   },
   "outputs": [
    {
     "data": {
      "text/html": [
       "<div>\n",
       "<style scoped>\n",
       "    .dataframe tbody tr th:only-of-type {\n",
       "        vertical-align: middle;\n",
       "    }\n",
       "\n",
       "    .dataframe tbody tr th {\n",
       "        vertical-align: top;\n",
       "    }\n",
       "\n",
       "    .dataframe thead th {\n",
       "        text-align: right;\n",
       "    }\n",
       "</style>\n",
       "<table border=\"1\" class=\"dataframe\">\n",
       "  <thead>\n",
       "    <tr style=\"text-align: right;\">\n",
       "      <th></th>\n",
       "      <th>시군구</th>\n",
       "      <th>동반자유형</th>\n",
       "      <th>만족도</th>\n",
       "      <th>재방문의도</th>\n",
       "      <th>타인추천의도</th>\n",
       "      <th>성별</th>\n",
       "      <th>연령대</th>\n",
       "      <th>평점</th>\n",
       "      <th>법정동코드</th>\n",
       "    </tr>\n",
       "  </thead>\n",
       "  <tbody>\n",
       "    <tr>\n",
       "      <th>0</th>\n",
       "      <td>강원특별자치도 삼척시</td>\n",
       "      <td>가족</td>\n",
       "      <td>5</td>\n",
       "      <td>4</td>\n",
       "      <td>4</td>\n",
       "      <td>여</td>\n",
       "      <td>15~19세</td>\n",
       "      <td>5.266667</td>\n",
       "      <td>42230</td>\n",
       "    </tr>\n",
       "    <tr>\n",
       "      <th>1</th>\n",
       "      <td>제주특별자치도 서귀포시</td>\n",
       "      <td>가족</td>\n",
       "      <td>5</td>\n",
       "      <td>5</td>\n",
       "      <td>5</td>\n",
       "      <td>여</td>\n",
       "      <td>30대</td>\n",
       "      <td>6.166667</td>\n",
       "      <td>50130</td>\n",
       "    </tr>\n",
       "    <tr>\n",
       "      <th>2</th>\n",
       "      <td>강원특별자치도 강릉시</td>\n",
       "      <td>가족</td>\n",
       "      <td>5</td>\n",
       "      <td>5</td>\n",
       "      <td>4</td>\n",
       "      <td>남</td>\n",
       "      <td>30대</td>\n",
       "      <td>5.666667</td>\n",
       "      <td>42150</td>\n",
       "    </tr>\n",
       "    <tr>\n",
       "      <th>3</th>\n",
       "      <td>강원특별자치도 강릉시</td>\n",
       "      <td>비가족</td>\n",
       "      <td>5</td>\n",
       "      <td>5</td>\n",
       "      <td>4</td>\n",
       "      <td>남</td>\n",
       "      <td>50대</td>\n",
       "      <td>5.666667</td>\n",
       "      <td>42150</td>\n",
       "    </tr>\n",
       "    <tr>\n",
       "      <th>4</th>\n",
       "      <td>강원특별자치도 춘천시</td>\n",
       "      <td>비가족</td>\n",
       "      <td>5</td>\n",
       "      <td>4</td>\n",
       "      <td>3</td>\n",
       "      <td>남</td>\n",
       "      <td>40대</td>\n",
       "      <td>4.766667</td>\n",
       "      <td>42110</td>\n",
       "    </tr>\n",
       "  </tbody>\n",
       "</table>\n",
       "</div>"
      ],
      "text/plain": [
       "            시군구 동반자유형  만족도  재방문의도  타인추천의도 성별     연령대        평점  법정동코드\n",
       "0   강원특별자치도 삼척시    가족    5      4       4  여  15~19세  5.266667  42230\n",
       "1  제주특별자치도 서귀포시    가족    5      5       5  여     30대  6.166667  50130\n",
       "2   강원특별자치도 강릉시    가족    5      5       4  남     30대  5.666667  42150\n",
       "3   강원특별자치도 강릉시   비가족    5      5       4  남     50대  5.666667  42150\n",
       "4   강원특별자치도 춘천시   비가족    5      4       3  남     40대  4.766667  42110"
      ]
     },
     "execution_count": 7,
     "metadata": {},
     "output_type": "execute_result"
    }
   ],
   "source": [
    "\n",
    "import pandas as pd\n",
    "\n",
    "# Load the data\n",
    "# 수치형 및 평점 추가된 데이터\n",
    "data = pd.read_csv('국민여행조사데이터_20230724.csv')\n",
    "\n",
    "# Display the first few rows of the data\n",
    "data.head()\n",
    "        "
   ]
  },
  {
   "cell_type": "code",
   "execution_count": 1,
   "id": "f365505e",
   "metadata": {},
   "outputs": [
    {
     "name": "stderr",
     "output_type": "stream",
     "text": [
      "C:\\Users\\art\\anaconda3\\envs\\tensorflow\\lib\\site-packages\\numpy\\_distributor_init.py:30: UserWarning: loaded more than 1 DLL from .libs:\n",
      "C:\\Users\\art\\anaconda3\\envs\\tensorflow\\lib\\site-packages\\numpy\\.libs\\libopenblas.NOIJJG62EMASZI6NYURL6JBKM4EVBGM7.gfortran-win_amd64.dll\n",
      "C:\\Users\\art\\anaconda3\\envs\\tensorflow\\lib\\site-packages\\numpy\\.libs\\libopenblas64__v0.3.21-gcc_10_3_0.dll\n",
      "  warnings.warn(\"loaded more than 1 DLL from .libs:\"\n"
     ]
    },
    {
     "data": {
      "text/html": [
       "<div>\n",
       "<style scoped>\n",
       "    .dataframe tbody tr th:only-of-type {\n",
       "        vertical-align: middle;\n",
       "    }\n",
       "\n",
       "    .dataframe tbody tr th {\n",
       "        vertical-align: top;\n",
       "    }\n",
       "\n",
       "    .dataframe thead th {\n",
       "        text-align: right;\n",
       "    }\n",
       "</style>\n",
       "<table border=\"1\" class=\"dataframe\">\n",
       "  <thead>\n",
       "    <tr style=\"text-align: right;\">\n",
       "      <th></th>\n",
       "      <th>만족도</th>\n",
       "      <th>재방문의도</th>\n",
       "      <th>타인추천의도</th>\n",
       "    </tr>\n",
       "  </thead>\n",
       "  <tbody>\n",
       "    <tr>\n",
       "      <th>만족도</th>\n",
       "      <td>1.000000</td>\n",
       "      <td>0.524553</td>\n",
       "      <td>0.473374</td>\n",
       "    </tr>\n",
       "    <tr>\n",
       "      <th>재방문의도</th>\n",
       "      <td>0.524553</td>\n",
       "      <td>1.000000</td>\n",
       "      <td>0.578218</td>\n",
       "    </tr>\n",
       "    <tr>\n",
       "      <th>타인추천의도</th>\n",
       "      <td>0.473374</td>\n",
       "      <td>0.578218</td>\n",
       "      <td>1.000000</td>\n",
       "    </tr>\n",
       "  </tbody>\n",
       "</table>\n",
       "</div>"
      ],
      "text/plain": [
       "             만족도     재방문의도    타인추천의도\n",
       "만족도     1.000000  0.524553  0.473374\n",
       "재방문의도   0.524553  1.000000  0.578218\n",
       "타인추천의도  0.473374  0.578218  1.000000"
      ]
     },
     "execution_count": 1,
     "metadata": {},
     "output_type": "execute_result"
    }
   ],
   "source": [
    "import pandas as pd\n",
    "\n",
    "# Load the data\n",
    "data = pd.read_csv('국민여행조사데이터_20230724.csv')\n",
    "\n",
    "# Calculate the correlation between the three factors\n",
    "correlation = data[['만족도', '재방문의도', '타인추천의도']].corr()\n",
    "correlation\n"
   ]
  },
  {
   "cell_type": "markdown",
   "id": "7284e6cd",
   "metadata": {},
   "source": [
    "## 추천 함수 구현"
   ]
  },
  {
   "cell_type": "code",
   "execution_count": 8,
   "id": "a454f780",
   "metadata": {},
   "outputs": [],
   "source": [
    "\n",
    "import random\n",
    "\n",
    "def recommend_places(data, gender, age, companion):\n",
    "    # Filter data based on the input\n",
    "    filtered_data = data[(data['성별'] == gender) & \n",
    "                         (data['연령대'] == age) & \n",
    "                         (data['동반자유형'] == companion)]\n",
    "    \n",
    "    # Sort by rating and select top 15\n",
    "    top_places = filtered_data.sort_values('평점', ascending=False).head(15)\n",
    "    \n",
    "    # Randomly select 5 places\n",
    "    recommended_places = top_places.sample(5)\n",
    "    \n",
    "    return recommended_places\n",
    "        "
   ]
  },
  {
   "cell_type": "markdown",
   "id": "93818f76",
   "metadata": {},
   "source": [
    "## 함수 테스트"
   ]
  },
  {
   "cell_type": "code",
   "execution_count": 12,
   "id": "69c84318",
   "metadata": {},
   "outputs": [
    {
     "data": {
      "text/plain": [
       "['광주광역시 서구', '전라북도 무주군', '강원특별자치도 양양군', '강원특별자치도 강릉시', '전라북도 군산시']"
      ]
     },
     "execution_count": 12,
     "metadata": {},
     "output_type": "execute_result"
    }
   ],
   "source": [
    "\n",
    "# Test the function\n",
    "recommended_places = recommend_places(data, '여', '20대', '가족')\n",
    "recommended_places_cities = recommended_places['시군구'].tolist()\n",
    "recommended_places_cities"
   ]
  },
  {
   "cell_type": "code",
   "execution_count": 5,
   "id": "e3a9aba3",
   "metadata": {},
   "outputs": [
    {
     "name": "stdout",
     "output_type": "stream",
     "text": [
      "시군구 column의 앞뒤 빈칸 제거 및 덮어씌우기가 완료되었습니다.\n"
     ]
    }
   ],
   "source": [
    "# import pandas as pd\n",
    "\n",
    "# # 파일 경로 설정\n",
    "# file_path = \"법정동코드_시군구2.csv\"\n",
    "\n",
    "# # CSV 파일 불러오기\n",
    "# df = pd.read_csv(file_path, encoding='cp949')\n",
    "\n",
    "# # 시군구 column의 앞뒤 빈칸 제거\n",
    "# df['시군구'] = df['시군구'].str.strip()\n",
    "\n",
    "# # 변경된 DataFrame을 다시 CSV 파일로 저장 (덮어씌우기)\n",
    "# df.to_csv(file_path, index=False, encoding='utf-8-sig')\n",
    "\n",
    "# print(\"시군구 column의 앞뒤 빈칸 제거 및 덮어씌우기가 완료되었습니다.\")\n"
   ]
  },
  {
   "cell_type": "code",
   "execution_count": 6,
   "id": "efa1f1ed",
   "metadata": {},
   "outputs": [
    {
     "name": "stdout",
     "output_type": "stream",
     "text": [
      "국민여행조사데이터_20230724.csv 파일이 저장되었습니다.\n"
     ]
    }
   ],
   "source": [
    "# import pandas as pd\n",
    "\n",
    "# # 파일명과 경로 설정\n",
    "# input_file = \"국민여행조사데이터_전처리완료_가중치적용.csv\"\n",
    "# output_file = \"국민여행조사데이터_20230724.csv\"\n",
    "\n",
    "# # CSV 파일 읽기\n",
    "# df = pd.read_csv(input_file)\n",
    "\n",
    "# # \"동반자유형\" column 값에 \"가족\"이 포함되어 있는지 확인하여 가족/비가족으로 값을 변경\n",
    "# df[\"동반자유형\"] = df[\"동반자유형\"].apply(lambda x: \"가족\" if \"가족\" in x else \"비가족\")\n",
    "\n",
    "# # 변경된 데이터를 새로운 CSV 파일로 저장 (utf-8-sig 인코딩)\n",
    "# df.to_csv(output_file, index=False, encoding='utf-8-sig')\n",
    "\n",
    "# print(f\"{output_file} 파일이 저장되었습니다.\")\n"
   ]
  },
  {
   "cell_type": "code",
   "execution_count": 20,
   "id": "40d690db",
   "metadata": {},
   "outputs": [
    {
     "data": {
      "text/html": [
       "<div>\n",
       "<style scoped>\n",
       "    .dataframe tbody tr th:only-of-type {\n",
       "        vertical-align: middle;\n",
       "    }\n",
       "\n",
       "    .dataframe tbody tr th {\n",
       "        vertical-align: top;\n",
       "    }\n",
       "\n",
       "    .dataframe thead th {\n",
       "        text-align: right;\n",
       "    }\n",
       "</style>\n",
       "<table border=\"1\" class=\"dataframe\">\n",
       "  <thead>\n",
       "    <tr style=\"text-align: right;\">\n",
       "      <th></th>\n",
       "      <th>시군구</th>\n",
       "      <th>동반자유형</th>\n",
       "      <th>만족도</th>\n",
       "      <th>재방문의도</th>\n",
       "      <th>타인추천의도</th>\n",
       "      <th>성별</th>\n",
       "      <th>연령대</th>\n",
       "      <th>평점</th>\n",
       "      <th>법정동코드</th>\n",
       "    </tr>\n",
       "  </thead>\n",
       "  <tbody>\n",
       "    <tr>\n",
       "      <th>0</th>\n",
       "      <td>강원특별자치도 삼척시</td>\n",
       "      <td>가족</td>\n",
       "      <td>5</td>\n",
       "      <td>4</td>\n",
       "      <td>4</td>\n",
       "      <td>여</td>\n",
       "      <td>15~19세</td>\n",
       "      <td>5.266667</td>\n",
       "      <td>42230</td>\n",
       "    </tr>\n",
       "    <tr>\n",
       "      <th>1</th>\n",
       "      <td>제주특별자치도 서귀포시</td>\n",
       "      <td>가족</td>\n",
       "      <td>5</td>\n",
       "      <td>5</td>\n",
       "      <td>5</td>\n",
       "      <td>여</td>\n",
       "      <td>30대</td>\n",
       "      <td>6.166667</td>\n",
       "      <td>50130</td>\n",
       "    </tr>\n",
       "    <tr>\n",
       "      <th>2</th>\n",
       "      <td>강원특별자치도 강릉시</td>\n",
       "      <td>가족</td>\n",
       "      <td>5</td>\n",
       "      <td>5</td>\n",
       "      <td>4</td>\n",
       "      <td>남</td>\n",
       "      <td>30대</td>\n",
       "      <td>5.666667</td>\n",
       "      <td>42150</td>\n",
       "    </tr>\n",
       "    <tr>\n",
       "      <th>3</th>\n",
       "      <td>강원특별자치도 강릉시</td>\n",
       "      <td>비가족</td>\n",
       "      <td>5</td>\n",
       "      <td>5</td>\n",
       "      <td>4</td>\n",
       "      <td>남</td>\n",
       "      <td>50대</td>\n",
       "      <td>5.666667</td>\n",
       "      <td>42150</td>\n",
       "    </tr>\n",
       "    <tr>\n",
       "      <th>4</th>\n",
       "      <td>강원특별자치도 춘천시</td>\n",
       "      <td>비가족</td>\n",
       "      <td>5</td>\n",
       "      <td>4</td>\n",
       "      <td>3</td>\n",
       "      <td>남</td>\n",
       "      <td>40대</td>\n",
       "      <td>4.766667</td>\n",
       "      <td>42110</td>\n",
       "    </tr>\n",
       "  </tbody>\n",
       "</table>\n",
       "</div>"
      ],
      "text/plain": [
       "            시군구 동반자유형  만족도  재방문의도  타인추천의도 성별     연령대        평점  법정동코드\n",
       "0   강원특별자치도 삼척시    가족    5      4       4  여  15~19세  5.266667  42230\n",
       "1  제주특별자치도 서귀포시    가족    5      5       5  여     30대  6.166667  50130\n",
       "2   강원특별자치도 강릉시    가족    5      5       4  남     30대  5.666667  42150\n",
       "3   강원특별자치도 강릉시   비가족    5      5       4  남     50대  5.666667  42150\n",
       "4   강원특별자치도 춘천시   비가족    5      4       3  남     40대  4.766667  42110"
      ]
     },
     "execution_count": 20,
     "metadata": {},
     "output_type": "execute_result"
    }
   ],
   "source": [
    "import pandas as pd\n",
    "\n",
    "# Load the data\n",
    "data = pd.read_csv('국민여행조사데이터_20230724.csv')\n",
    "\n",
    "# Display the first 5 row\n",
    "data.head()\n"
   ]
  },
  {
   "cell_type": "code",
   "execution_count": 18,
   "id": "ce77924a",
   "metadata": {},
   "outputs": [
    {
     "data": {
      "text/plain": [
       "['강원특별자치도 춘천시', '경기도 양평군', '강원특별자치도 양양군', '서울특별시 중랑구', '강원특별자치도 강릉시']"
      ]
     },
     "execution_count": 18,
     "metadata": {},
     "output_type": "execute_result"
    }
   ],
   "source": [
    "# 최종 코드\n",
    "\n",
    "import pandas as pd\n",
    "import random\n",
    "\n",
    "# Load the data\n",
    "data = pd.read_csv('국민여행조사데이터_20230724.csv')\n",
    "\n",
    "def recommend_places(data, gender, age, companion):\n",
    "    # Filter data based on the input\n",
    "    filtered_data = data[(data['성별'] == gender) & \n",
    "                         (data['연령대'] == age) & \n",
    "                         (data['동반자유형'] == companion)]\n",
    "    \n",
    "    # Sort by rating and select top 15\n",
    "    top_places = filtered_data.sort_values('평점', ascending=False).head(15)\n",
    "    \n",
    "    # Randomly select 5 places\n",
    "    recommended_places = top_places.sample(5)\n",
    "    \n",
    "    return recommended_places\n",
    "\n",
    "# Test the function\n",
    "recommended_places = recommend_places(data, '남', '20대', '비가족')\n",
    "recommended_places_cities = recommended_places['시군구'].tolist()\n",
    "recommended_places_cities"
   ]
  }
 ],
 "metadata": {
  "kernelspec": {
   "display_name": "TF",
   "language": "python",
   "name": "tensorflow"
  },
  "language_info": {
   "codemirror_mode": {
    "name": "ipython",
    "version": 3
   },
   "file_extension": ".py",
   "mimetype": "text/x-python",
   "name": "python",
   "nbconvert_exporter": "python",
   "pygments_lexer": "ipython3",
   "version": "3.8.16"
  }
 },
 "nbformat": 4,
 "nbformat_minor": 5
}
